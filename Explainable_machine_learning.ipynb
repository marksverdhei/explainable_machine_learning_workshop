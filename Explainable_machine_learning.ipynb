{
 "cells": [
  {
   "cell_type": "markdown",
   "metadata": {},
   "source": [
    "# Explainable machine learning  \n",
    "A workshop in collaboration with Linjeforeningen for Språkteknologi  \n",
    "***  \n",
    "\n",
    "Machine learning has become a powerful tool for predictive data analysis, but modern, state-of-the-art approaches are complex and lack interpretability. In this workshop, we discover how classifiers can be used for data analytics, as well as useful tools to gain extensive insights in data patterns and model decision rules. We will use explaination techniques for both simple and more complex models. \n",
    "\n",
    "***  \n",
    "Required dependencies are in `Requirements.txt`  \n",
    "We install them using pip (alternatively, you can use conda)"
   ]
  },
  {
   "cell_type": "code",
   "execution_count": 1,
   "metadata": {
    "scrolled": true
   },
   "outputs": [
    {
     "name": "stdout",
     "output_type": "stream",
     "text": [
      "Requirement already satisfied: numpy in /home/markus/.local/lib/python3.8/site-packages (from -r Requirements.txt (line 1)) (1.19.4)\n",
      "Requirement already satisfied: pandas in /home/markus/.local/lib/python3.8/site-packages (from -r Requirements.txt (line 2)) (1.2.0)\n",
      "Collecting matplotlib\n",
      "  Downloading matplotlib-3.3.3-cp38-cp38-manylinux1_x86_64.whl (11.6 MB)\n",
      "\u001b[K     |████████████████████████████████| 11.6 MB 196 kB/s eta 0:00:01\n",
      "\u001b[?25hRequirement already satisfied: sklearn in /home/markus/.local/lib/python3.8/site-packages (from -r Requirements.txt (line 4)) (0.0)\n",
      "Requirement already satisfied: tensorflow in /home/markus/.local/lib/python3.8/site-packages (from -r Requirements.txt (line 5)) (2.4.0)\n",
      "Requirement already satisfied: shap in /home/markus/.local/lib/python3.8/site-packages (from -r Requirements.txt (line 6)) (0.37.0)\n",
      "Requirement already satisfied: pytz>=2017.3 in /usr/lib/python3/dist-packages (from pandas->-r Requirements.txt (line 2)) (2019.3)\n",
      "Requirement already satisfied: python-dateutil>=2.7.3 in /usr/lib/python3/dist-packages (from pandas->-r Requirements.txt (line 2)) (2.7.3)\n",
      "Requirement already satisfied: pillow>=6.2.0 in /usr/lib/python3/dist-packages (from matplotlib->-r Requirements.txt (line 3)) (7.0.0)\n",
      "Requirement already satisfied: pyparsing!=2.0.4,!=2.1.2,!=2.1.6,>=2.0.3 in /home/markus/.local/lib/python3.8/site-packages (from matplotlib->-r Requirements.txt (line 3)) (2.4.7)\n",
      "Collecting cycler>=0.10\n",
      "  Downloading cycler-0.10.0-py2.py3-none-any.whl (6.5 kB)\n",
      "Collecting kiwisolver>=1.0.1\n",
      "  Downloading kiwisolver-1.3.1-cp38-cp38-manylinux1_x86_64.whl (1.2 MB)\n",
      "\u001b[K     |████████████████████████████████| 1.2 MB 4.6 MB/s eta 0:00:01\n",
      "\u001b[?25hRequirement already satisfied: scikit-learn in /home/markus/.local/lib/python3.8/site-packages (from sklearn->-r Requirements.txt (line 4)) (0.24.0)\n",
      "Requirement already satisfied: six~=1.15.0 in /home/markus/.local/lib/python3.8/site-packages (from tensorflow->-r Requirements.txt (line 5)) (1.15.0)\n",
      "Requirement already satisfied: opt-einsum~=3.3.0 in /home/markus/.local/lib/python3.8/site-packages (from tensorflow->-r Requirements.txt (line 5)) (3.3.0)\n",
      "Requirement already satisfied: typing-extensions~=3.7.4 in /home/markus/.local/lib/python3.8/site-packages (from tensorflow->-r Requirements.txt (line 5)) (3.7.4.3)\n",
      "Requirement already satisfied: keras-preprocessing~=1.1.2 in /home/markus/.local/lib/python3.8/site-packages (from tensorflow->-r Requirements.txt (line 5)) (1.1.2)\n",
      "Requirement already satisfied: tensorboard~=2.4 in /home/markus/.local/lib/python3.8/site-packages (from tensorflow->-r Requirements.txt (line 5)) (2.4.0)\n",
      "Requirement already satisfied: grpcio~=1.32.0 in /home/markus/.local/lib/python3.8/site-packages (from tensorflow->-r Requirements.txt (line 5)) (1.32.0)\n",
      "Requirement already satisfied: wrapt~=1.12.1 in /home/markus/.local/lib/python3.8/site-packages (from tensorflow->-r Requirements.txt (line 5)) (1.12.1)\n",
      "Requirement already satisfied: termcolor~=1.1.0 in /home/markus/.local/lib/python3.8/site-packages (from tensorflow->-r Requirements.txt (line 5)) (1.1.0)\n",
      "Requirement already satisfied: wheel~=0.35 in /home/markus/.local/lib/python3.8/site-packages (from tensorflow->-r Requirements.txt (line 5)) (0.36.2)\n",
      "Requirement already satisfied: astunparse~=1.6.3 in /home/markus/.local/lib/python3.8/site-packages (from tensorflow->-r Requirements.txt (line 5)) (1.6.3)\n",
      "Requirement already satisfied: gast==0.3.3 in /home/markus/.local/lib/python3.8/site-packages (from tensorflow->-r Requirements.txt (line 5)) (0.3.3)\n",
      "Requirement already satisfied: protobuf>=3.9.2 in /home/markus/.local/lib/python3.8/site-packages (from tensorflow->-r Requirements.txt (line 5)) (3.14.0)\n",
      "Requirement already satisfied: tensorflow-estimator<2.5.0,>=2.4.0rc0 in /home/markus/.local/lib/python3.8/site-packages (from tensorflow->-r Requirements.txt (line 5)) (2.4.0)\n",
      "Requirement already satisfied: flatbuffers~=1.12.0 in /home/markus/.local/lib/python3.8/site-packages (from tensorflow->-r Requirements.txt (line 5)) (1.12)\n",
      "Requirement already satisfied: absl-py~=0.10 in /home/markus/.local/lib/python3.8/site-packages (from tensorflow->-r Requirements.txt (line 5)) (0.11.0)\n",
      "Requirement already satisfied: h5py~=2.10.0 in /home/markus/.local/lib/python3.8/site-packages (from tensorflow->-r Requirements.txt (line 5)) (2.10.0)\n",
      "Requirement already satisfied: google-pasta~=0.2 in /home/markus/.local/lib/python3.8/site-packages (from tensorflow->-r Requirements.txt (line 5)) (0.2.0)\n",
      "Requirement already satisfied: scipy in /home/markus/.local/lib/python3.8/site-packages (from shap->-r Requirements.txt (line 6)) (1.5.4)\n",
      "Requirement already satisfied: tqdm>4.25.0 in /home/markus/.local/lib/python3.8/site-packages (from shap->-r Requirements.txt (line 6)) (4.55.1)\n",
      "Requirement already satisfied: slicer==0.0.3 in /home/markus/.local/lib/python3.8/site-packages (from shap->-r Requirements.txt (line 6)) (0.0.3)\n",
      "Requirement already satisfied: numba in /home/markus/.local/lib/python3.8/site-packages (from shap->-r Requirements.txt (line 6)) (0.52.0)\n",
      "Requirement already satisfied: threadpoolctl>=2.0.0 in /home/markus/.local/lib/python3.8/site-packages (from scikit-learn->sklearn->-r Requirements.txt (line 4)) (2.1.0)\n",
      "Requirement already satisfied: joblib>=0.11 in /home/markus/.local/lib/python3.8/site-packages (from scikit-learn->sklearn->-r Requirements.txt (line 4)) (1.0.0)\n",
      "Requirement already satisfied: werkzeug>=0.11.15 in /home/markus/.local/lib/python3.8/site-packages (from tensorboard~=2.4->tensorflow->-r Requirements.txt (line 5)) (1.0.1)\n",
      "Requirement already satisfied: tensorboard-plugin-wit>=1.6.0 in /home/markus/.local/lib/python3.8/site-packages (from tensorboard~=2.4->tensorflow->-r Requirements.txt (line 5)) (1.7.0)\n",
      "Requirement already satisfied: setuptools>=41.0.0 in /usr/lib/python3/dist-packages (from tensorboard~=2.4->tensorflow->-r Requirements.txt (line 5)) (45.2.0)\n",
      "Requirement already satisfied: markdown>=2.6.8 in /home/markus/.local/lib/python3.8/site-packages (from tensorboard~=2.4->tensorflow->-r Requirements.txt (line 5)) (3.3.3)\n",
      "Requirement already satisfied: google-auth<2,>=1.6.3 in /home/markus/.local/lib/python3.8/site-packages (from tensorboard~=2.4->tensorflow->-r Requirements.txt (line 5)) (1.24.0)\n",
      "Requirement already satisfied: requests<3,>=2.21.0 in /usr/lib/python3/dist-packages (from tensorboard~=2.4->tensorflow->-r Requirements.txt (line 5)) (2.22.0)\n",
      "Requirement already satisfied: google-auth-oauthlib<0.5,>=0.4.1 in /home/markus/.local/lib/python3.8/site-packages (from tensorboard~=2.4->tensorflow->-r Requirements.txt (line 5)) (0.4.2)\n",
      "Requirement already satisfied: llvmlite<0.36,>=0.35.0 in /home/markus/.local/lib/python3.8/site-packages (from numba->shap->-r Requirements.txt (line 6)) (0.35.0)\n",
      "Requirement already satisfied: cachetools<5.0,>=2.0.0 in /home/markus/.local/lib/python3.8/site-packages (from google-auth<2,>=1.6.3->tensorboard~=2.4->tensorflow->-r Requirements.txt (line 5)) (4.2.0)\n",
      "Requirement already satisfied: rsa<5,>=3.1.4; python_version >= \"3.6\" in /home/markus/.local/lib/python3.8/site-packages (from google-auth<2,>=1.6.3->tensorboard~=2.4->tensorflow->-r Requirements.txt (line 5)) (4.6)\n",
      "Requirement already satisfied: pyasn1-modules>=0.2.1 in /home/markus/.local/lib/python3.8/site-packages (from google-auth<2,>=1.6.3->tensorboard~=2.4->tensorflow->-r Requirements.txt (line 5)) (0.2.8)\n",
      "Requirement already satisfied: requests-oauthlib>=0.7.0 in /home/markus/.local/lib/python3.8/site-packages (from google-auth-oauthlib<0.5,>=0.4.1->tensorboard~=2.4->tensorflow->-r Requirements.txt (line 5)) (1.3.0)\n",
      "Requirement already satisfied: pyasn1>=0.1.3 in /home/markus/.local/lib/python3.8/site-packages (from rsa<5,>=3.1.4; python_version >= \"3.6\"->google-auth<2,>=1.6.3->tensorboard~=2.4->tensorflow->-r Requirements.txt (line 5)) (0.4.8)\n",
      "Requirement already satisfied: oauthlib>=3.0.0 in /usr/lib/python3/dist-packages (from requests-oauthlib>=0.7.0->google-auth-oauthlib<0.5,>=0.4.1->tensorboard~=2.4->tensorflow->-r Requirements.txt (line 5)) (3.1.0)\n",
      "Installing collected packages: cycler, kiwisolver, matplotlib\n",
      "Successfully installed cycler-0.10.0 kiwisolver-1.3.1 matplotlib-3.3.3\n"
     ]
    }
   ],
   "source": [
    "!pip3 install -r Requirements.txt"
   ]
  },
  {
   "cell_type": "code",
   "execution_count": 2,
   "metadata": {},
   "outputs": [],
   "source": [
    "import numpy as np\n",
    "import pandas as pd\n",
    "import sklearn\n",
    "import shap\n",
    "import matplotlib.pyplot as plt"
   ]
  },
  {
   "cell_type": "markdown",
   "metadata": {},
   "source": [
    "### (simple) Robots love sterotyping  \n",
    "\n"
   ]
  },
  {
   "cell_type": "code",
   "execution_count": null,
   "metadata": {},
   "outputs": [],
   "source": []
  }
 ],
 "metadata": {
  "kernelspec": {
   "display_name": "Python 3",
   "language": "python",
   "name": "python3"
  },
  "language_info": {
   "codemirror_mode": {
    "name": "ipython",
    "version": 3
   },
   "file_extension": ".py",
   "mimetype": "text/x-python",
   "name": "python",
   "nbconvert_exporter": "python",
   "pygments_lexer": "ipython3",
   "version": "3.8.5"
  }
 },
 "nbformat": 4,
 "nbformat_minor": 4
}
